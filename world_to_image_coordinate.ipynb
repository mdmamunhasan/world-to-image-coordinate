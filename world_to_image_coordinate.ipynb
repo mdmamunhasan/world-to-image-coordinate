{
 "cells": [
  {
   "cell_type": "code",
   "execution_count": 1,
   "metadata": {},
   "outputs": [],
   "source": [
    "import numpy as np"
   ]
  },
  {
   "cell_type": "code",
   "execution_count": 2,
   "metadata": {},
   "outputs": [
    {
     "data": {
      "text/plain": [
       "array([200,  70,  50])"
      ]
     },
     "execution_count": 2,
     "metadata": {},
     "output_type": "execute_result"
    }
   ],
   "source": [
    "W = np.array([0, 0, 0]) # World cordinate origin\n",
    "C = np.array([50, 60, -20])  # Camera cordinate origin in world coordinate\n",
    "Xw = np.array([200, 70, 50])  # 3D image point in world coordinate\n",
    "Xw"
   ]
  },
  {
   "cell_type": "code",
   "execution_count": 3,
   "metadata": {},
   "outputs": [],
   "source": [
    "# Calculate Intrinsic Params"
   ]
  },
  {
   "cell_type": "code",
   "execution_count": 4,
   "metadata": {},
   "outputs": [
    {
     "data": {
      "text/plain": [
       "array([[200.,   0., 512.],\n",
       "       [  0., 200., 512.],\n",
       "       [  0.,   0.,   1.]])"
      ]
     },
     "execution_count": 4,
     "metadata": {},
     "output_type": "execute_result"
    }
   ],
   "source": [
    "f = 10/0.05\n",
    "px = 512\n",
    "py = 512\n",
    "K = np.array([f, 0, px, 0, f, py, 0, 0, 1]).reshape([3,3])\n",
    "K"
   ]
  },
  {
   "cell_type": "code",
   "execution_count": 5,
   "metadata": {},
   "outputs": [],
   "source": [
    "# Calculate Extrinsic Params"
   ]
  },
  {
   "cell_type": "code",
   "execution_count": 7,
   "metadata": {},
   "outputs": [
    {
     "data": {
      "text/plain": [
       "array([[ 0.6124 , -0.3536 ,  0.7071 ],\n",
       "       [ 0.7392 ,  0.5732 ,  0.35356],\n",
       "       [ 0.2803 ,  0.7392 ,  0.624  ]])"
      ]
     },
     "execution_count": 7,
     "metadata": {},
     "output_type": "execute_result"
    }
   ],
   "source": [
    "R = np.array([[0.6124, -0.3536, 0.7071],[0.7392, 0.5732, 0.35356],[0.2803, 0.7392, 0.624]])\n",
    "R"
   ]
  },
  {
   "cell_type": "code",
   "execution_count": 8,
   "metadata": {},
   "outputs": [
    {
     "data": {
      "text/plain": [
       "array([[-50],\n",
       "       [-60],\n",
       "       [ 20]])"
      ]
     },
     "execution_count": 8,
     "metadata": {},
     "output_type": "execute_result"
    }
   ],
   "source": [
    "T = (W-C).reshape([-1, 1])\n",
    "T"
   ]
  },
  {
   "cell_type": "code",
   "execution_count": 9,
   "metadata": {},
   "outputs": [
    {
     "data": {
      "text/plain": [
       "array([[-4.738 ],\n",
       "       [64.2808],\n",
       "       [45.887 ]])"
      ]
     },
     "execution_count": 9,
     "metadata": {},
     "output_type": "execute_result"
    }
   ],
   "source": [
    "t = -np.dot(R, T)\n",
    "t"
   ]
  },
  {
   "cell_type": "code",
   "execution_count": 10,
   "metadata": {},
   "outputs": [
    {
     "data": {
      "text/plain": [
       "array([[ 0.6124 , -0.3536 ,  0.7071 , -4.738  ],\n",
       "       [ 0.7392 ,  0.5732 ,  0.35356, 64.2808 ],\n",
       "       [ 0.2803 ,  0.7392 ,  0.624  , 45.887  ]])"
      ]
     },
     "execution_count": 10,
     "metadata": {},
     "output_type": "execute_result"
    }
   ],
   "source": [
    "Rt = np.concatenate((R, t), 1)\n",
    "Rt"
   ]
  },
  {
   "cell_type": "code",
   "execution_count": 11,
   "metadata": {},
   "outputs": [
    {
     "data": {
      "text/plain": [
       "array([[  1.,   0.,   0.,  50.],\n",
       "       [  0.,   1.,   0.,  60.],\n",
       "       [  0.,   0.,   1., -20.]])"
      ]
     },
     "execution_count": 11,
     "metadata": {},
     "output_type": "execute_result"
    }
   ],
   "source": [
    "IT = np.concatenate((np.identity(3), -T), 1)\n",
    "IT"
   ]
  },
  {
   "cell_type": "code",
   "execution_count": 12,
   "metadata": {},
   "outputs": [],
   "source": [
    "# Calculate camera matrix"
   ]
  },
  {
   "cell_type": "code",
   "execution_count": 13,
   "metadata": {},
   "outputs": [
    {
     "data": {
      "text/plain": [
       "array([[2.6599360e+02, 3.0775040e+02, 4.6090800e+02, 2.2546544e+04],\n",
       "       [2.9135360e+02, 4.9311040e+02, 3.9020000e+02, 3.6350304e+04],\n",
       "       [2.8030000e-01, 7.3920000e-01, 6.2400000e-01, 4.5887000e+01]])"
      ]
     },
     "execution_count": 13,
     "metadata": {},
     "output_type": "execute_result"
    }
   ],
   "source": [
    "# Translate First\n",
    "P = np.dot(K, R)\n",
    "P = np.dot(P, IT)\n",
    "P"
   ]
  },
  {
   "cell_type": "code",
   "execution_count": 14,
   "metadata": {},
   "outputs": [
    {
     "data": {
      "text/plain": [
       "array([[2.6599360e+02, 3.0775040e+02, 4.6090800e+02, 2.2546544e+04],\n",
       "       [2.9135360e+02, 4.9311040e+02, 3.9020000e+02, 3.6350304e+04],\n",
       "       [2.8030000e-01, 7.3920000e-01, 6.2400000e-01, 4.5887000e+01]])"
      ]
     },
     "execution_count": 14,
     "metadata": {},
     "output_type": "execute_result"
    }
   ],
   "source": [
    "# Rotate First\n",
    "P = np.dot(K, Rt) \n",
    "P"
   ]
  },
  {
   "cell_type": "code",
   "execution_count": 16,
   "metadata": {},
   "outputs": [],
   "source": [
    "# Convert world coordinate to image point"
   ]
  },
  {
   "cell_type": "code",
   "execution_count": 17,
   "metadata": {},
   "outputs": [],
   "source": [
    "X = np.append(Xw, 1).reshape([-1, 1])"
   ]
  },
  {
   "cell_type": "code",
   "execution_count": 18,
   "metadata": {
    "scrolled": true
   },
   "outputs": [
    {
     "data": {
      "text/plain": [
       "array([120333.192, 148648.752,    184.891])"
      ]
     },
     "execution_count": 18,
     "metadata": {},
     "output_type": "execute_result"
    }
   ],
   "source": [
    "x = np.dot(P, X).flatten()\n",
    "x"
   ]
  },
  {
   "cell_type": "code",
   "execution_count": 20,
   "metadata": {},
   "outputs": [
    {
     "name": "stdout",
     "output_type": "stream",
     "text": [
      "Cartesian Image Point: x=650, y=803\n"
     ]
    }
   ],
   "source": [
    "Px = int(x[0]/x[2])\n",
    "Py = int(x[1]/x[2])\n",
    "print(f\"Cartesian Image Point: x={Px}, y={Py}\")"
   ]
  },
  {
   "cell_type": "code",
   "execution_count": null,
   "metadata": {},
   "outputs": [],
   "source": []
  }
 ],
 "metadata": {
  "kernelspec": {
   "display_name": "Python 3",
   "language": "python",
   "name": "python3"
  },
  "language_info": {
   "codemirror_mode": {
    "name": "ipython",
    "version": 3
   },
   "file_extension": ".py",
   "mimetype": "text/x-python",
   "name": "python",
   "nbconvert_exporter": "python",
   "pygments_lexer": "ipython3",
   "version": "3.8.1"
  }
 },
 "nbformat": 4,
 "nbformat_minor": 4
}
