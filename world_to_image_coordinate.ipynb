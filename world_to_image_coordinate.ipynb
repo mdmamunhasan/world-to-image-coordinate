{
 "cells": [
  {
   "cell_type": "code",
   "execution_count": 131,
   "metadata": {},
   "outputs": [],
   "source": [
    "import cv2\n",
    "import numpy as np"
   ]
  },
  {
   "cell_type": "code",
   "execution_count": 132,
   "metadata": {},
   "outputs": [],
   "source": [
    "Xw = np.array([200, 70, 50])\n",
    "C = np.array([50, 60, -20])"
   ]
  },
  {
   "cell_type": "code",
   "execution_count": 110,
   "metadata": {},
   "outputs": [
    {
     "data": {
      "text/plain": [
       "array([[150],\n",
       "       [ 10],\n",
       "       [ 70]])"
      ]
     },
     "execution_count": 110,
     "metadata": {},
     "output_type": "execute_result"
    }
   ],
   "source": [
    "t = (Xw - C).reshape([-1, 1])\n",
    "t"
   ]
  },
  {
   "cell_type": "code",
   "execution_count": 115,
   "metadata": {},
   "outputs": [
    {
     "data": {
      "text/plain": [
       "array([[-0.33333333, -0.4       ,  0.13333333],\n",
       "       [-5.        , -6.        ,  2.        ],\n",
       "       [-0.71428571, -0.85714286,  0.28571429]])"
      ]
     },
     "execution_count": 115,
     "metadata": {},
     "output_type": "execute_result"
    }
   ],
   "source": [
    "# t = -RC\n",
    "R = -C/t\n",
    "R"
   ]
  },
  {
   "cell_type": "code",
   "execution_count": 126,
   "metadata": {},
   "outputs": [
    {
     "data": {
      "text/plain": [
       "array([[200.,   0., 512.],\n",
       "       [  0., 200., 512.],\n",
       "       [  0.,   0.,   1.]])"
      ]
     },
     "execution_count": 126,
     "metadata": {},
     "output_type": "execute_result"
    }
   ],
   "source": [
    "f = 10/0.05\n",
    "px = 512\n",
    "py = 512\n",
    "K = np.array([f, 0, px, 0, f, py, 0, 0, 1]).reshape([3,3])\n",
    "K"
   ]
  },
  {
   "cell_type": "code",
   "execution_count": 129,
   "metadata": {},
   "outputs": [
    {
     "data": {
      "text/plain": [
       "array([[-4.32380952e+02, -5.18857143e+02,  1.72952381e+02,\n",
       "         6.58400000e+04],\n",
       "       [-1.36571429e+03, -1.63885714e+03,  5.46285714e+02,\n",
       "         3.78400000e+04],\n",
       "       [-7.14285714e-01, -8.57142857e-01,  2.85714286e-01,\n",
       "         7.00000000e+01]])"
      ]
     },
     "execution_count": 129,
     "metadata": {},
     "output_type": "execute_result"
    }
   ],
   "source": [
    "P = np.dot(K, np.concatenate((R, t), 1))\n",
    "P"
   ]
  },
  {
   "cell_type": "code",
   "execution_count": 151,
   "metadata": {},
   "outputs": [
    {
     "data": {
      "text/plain": [
       "array([-4.83085714e+04, -3.22708571e+05, -1.18571429e+02])"
      ]
     },
     "execution_count": 151,
     "metadata": {},
     "output_type": "execute_result"
    }
   ],
   "source": [
    "X = np.append(Xw, 1).reshape([-1, 1])\n",
    "x = np.dot(P, X).flatten()\n",
    "x"
   ]
  },
  {
   "cell_type": "code",
   "execution_count": 157,
   "metadata": {},
   "outputs": [
    {
     "name": "stdout",
     "output_type": "stream",
     "text": [
      "Image Point = x:407.4216867469881, y:2721.6385542168678\n"
     ]
    }
   ],
   "source": [
    "Px = x[0]/x[2]\n",
    "Py = x[1]/x[2]\n",
    "print(f\"Image Point = x:{Px}, y:{Py}\")"
   ]
  },
  {
   "cell_type": "code",
   "execution_count": null,
   "metadata": {},
   "outputs": [],
   "source": []
  }
 ],
 "metadata": {
  "kernelspec": {
   "display_name": "Python 3",
   "language": "python",
   "name": "python3"
  },
  "language_info": {
   "codemirror_mode": {
    "name": "ipython",
    "version": 3
   },
   "file_extension": ".py",
   "mimetype": "text/x-python",
   "name": "python",
   "nbconvert_exporter": "python",
   "pygments_lexer": "ipython3",
   "version": "3.8.1"
  }
 },
 "nbformat": 4,
 "nbformat_minor": 4
}
