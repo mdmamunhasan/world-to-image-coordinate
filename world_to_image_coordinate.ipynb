{
 "cells": [
  {
   "cell_type": "code",
   "execution_count": 129,
   "metadata": {},
   "outputs": [],
   "source": [
    "import cv2\n",
    "import numpy as np"
   ]
  },
  {
   "cell_type": "code",
   "execution_count": 130,
   "metadata": {},
   "outputs": [
    {
     "data": {
      "text/plain": [
       "array([[200],\n",
       "       [ 70],\n",
       "       [ 50],\n",
       "       [  1]])"
      ]
     },
     "execution_count": 130,
     "metadata": {},
     "output_type": "execute_result"
    }
   ],
   "source": [
    "W = np.array([0, 0, 0])\n",
    "C = np.array([50, 60, -20])\n",
    "Xw = np.append(np.array([200, 70, 50]),1).reshape([-1, 1])\n",
    "Xw"
   ]
  },
  {
   "cell_type": "code",
   "execution_count": 131,
   "metadata": {},
   "outputs": [
    {
     "data": {
      "text/plain": [
       "array([[200.,   0., 512.],\n",
       "       [  0., 200., 512.],\n",
       "       [  0.,   0.,   1.]])"
      ]
     },
     "execution_count": 131,
     "metadata": {},
     "output_type": "execute_result"
    }
   ],
   "source": [
    "f = 10/0.05\n",
    "px = 512\n",
    "py = 512\n",
    "K = np.array([f, 0, px, 0, f, py, 0, 0, 1]).reshape([3,3])\n",
    "K"
   ]
  },
  {
   "cell_type": "code",
   "execution_count": 120,
   "metadata": {},
   "outputs": [],
   "source": [
    "# Calicaluete Extrinsic Params"
   ]
  },
  {
   "cell_type": "code",
   "execution_count": 121,
   "metadata": {},
   "outputs": [
    {
     "data": {
      "text/plain": [
       "array([[-50],\n",
       "       [-60],\n",
       "       [ 20]])"
      ]
     },
     "execution_count": 121,
     "metadata": {},
     "output_type": "execute_result"
    }
   ],
   "source": [
    "t = (np.array([0, 0, 0]) - C).reshape([-1, 1])\n",
    "t"
   ]
  },
  {
   "cell_type": "code",
   "execution_count": 122,
   "metadata": {},
   "outputs": [
    {
     "data": {
      "text/plain": [
       "array([[ 0.6124 , -0.3536 ,  0.7071 ],\n",
       "       [ 0.7392 ,  0.5732 ,  0.35356],\n",
       "       [ 0.2803 ,  0.7392 ,  0.624  ]])"
      ]
     },
     "execution_count": 122,
     "metadata": {},
     "output_type": "execute_result"
    }
   ],
   "source": [
    "R = np.array([[0.6124, -0.3536, 0.7071],[0.7392, 0.5732, 0.35356],[0.2803, 0.7392, 0.624]])\n",
    "R"
   ]
  },
  {
   "cell_type": "code",
   "execution_count": 123,
   "metadata": {},
   "outputs": [
    {
     "data": {
      "text/plain": [
       "array([[  0.6124 ,  -0.3536 ,   0.7071 , -50.     ],\n",
       "       [  0.7392 ,   0.5732 ,   0.35356, -60.     ],\n",
       "       [  0.2803 ,   0.7392 ,   0.624  ,  20.     ]])"
      ]
     },
     "execution_count": 123,
     "metadata": {},
     "output_type": "execute_result"
    }
   ],
   "source": [
    "Rt = np.concatenate((R, t), 1)\n",
    "Rt"
   ]
  },
  {
   "cell_type": "code",
   "execution_count": 124,
   "metadata": {},
   "outputs": [],
   "source": [
    "# Calculate camera matrix"
   ]
  },
  {
   "cell_type": "code",
   "execution_count": 125,
   "metadata": {},
   "outputs": [
    {
     "data": {
      "text/plain": [
       "array([[ 2.659936e+02,  3.077504e+02,  4.609080e+02,  2.400000e+02],\n",
       "       [ 2.913536e+02,  4.931104e+02,  3.902000e+02, -1.760000e+03],\n",
       "       [ 2.803000e-01,  7.392000e-01,  6.240000e-01,  2.000000e+01]])"
      ]
     },
     "execution_count": 125,
     "metadata": {},
     "output_type": "execute_result"
    }
   ],
   "source": [
    "P = np.dot(K, Rt)\n",
    "P"
   ]
  },
  {
   "cell_type": "code",
   "execution_count": 126,
   "metadata": {},
   "outputs": [],
   "source": [
    "# Convert world coordinate to image point"
   ]
  },
  {
   "cell_type": "code",
   "execution_count": 127,
   "metadata": {},
   "outputs": [
    {
     "data": {
      "text/plain": [
       "array([ 98026.648, 110538.448,    159.004])"
      ]
     },
     "execution_count": 127,
     "metadata": {},
     "output_type": "execute_result"
    }
   ],
   "source": [
    "x = np.dot(P, X).flatten()\n",
    "x"
   ]
  },
  {
   "cell_type": "code",
   "execution_count": 128,
   "metadata": {},
   "outputs": [
    {
     "name": "stdout",
     "output_type": "stream",
     "text": [
      "Image Point = x:616.5042892002716, y:695.1928756509269\n"
     ]
    }
   ],
   "source": [
    "Px = x[0]/x[2]\n",
    "Py = x[1]/x[2]\n",
    "print(f\"Image Point = x:{Px}, y:{Py}\")"
   ]
  },
  {
   "cell_type": "code",
   "execution_count": null,
   "metadata": {},
   "outputs": [],
   "source": []
  }
 ],
 "metadata": {
  "kernelspec": {
   "display_name": "Python 3",
   "language": "python",
   "name": "python3"
  },
  "language_info": {
   "codemirror_mode": {
    "name": "ipython",
    "version": 3
   },
   "file_extension": ".py",
   "mimetype": "text/x-python",
   "name": "python",
   "nbconvert_exporter": "python",
   "pygments_lexer": "ipython3",
   "version": "3.8.1"
  }
 },
 "nbformat": 4,
 "nbformat_minor": 4
}
